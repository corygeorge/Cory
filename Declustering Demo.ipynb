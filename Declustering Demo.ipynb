{
 "cells": [
  {
   "cell_type": "code",
   "execution_count": null,
   "metadata": {},
   "outputs": [],
   "source": [
    "%load_ext autoreload\n",
    "%autoreload 2\n",
    "import warnings; warnings.filterwarnings('ignore')"
   ]
  },
  {
   "cell_type": "code",
   "execution_count": null,
   "metadata": {},
   "outputs": [],
   "source": [
    "%matplotlib inline\n",
    "import numpy as np\n",
    "import pandas as pd\n",
    "import declustering_tools as dtls"
   ]
  },
  {
   "cell_type": "markdown",
   "metadata": {},
   "source": [
    "### Import the catalogue"
   ]
  },
  {
   "cell_type": "code",
   "execution_count": null,
   "metadata": {},
   "outputs": [],
   "source": [
    "catalogue_file = \"./Aegean_ExtendedCat1.csv\"\n",
    "data = pd.read_csv(catalogue_file, sep=\",\")\n",
    "catalogue = dtls.convert_catalogue_to_dict(data)\n",
    "data"
   ]
  },
  {
   "cell_type": "markdown",
   "metadata": {},
   "source": [
    "### Run the declustering algorithm"
   ]
  },
  {
   "cell_type": "markdown",
   "metadata": {},
   "source": [
    "The declustering algorithm returns two vector outputs, with the length of the vectors equal to the number of earthquakes in the catalogue:\n",
    "\n",
    "`vcl`: The 'index' of the cluster (a unique integer) to which each earthquake belongs, taking 0 if not assigned to a cluster\n",
    "\n",
    "`flagvector`: A classification for each event of -1 for a foreshock, 0 for a mainshock and 1 for an aftershock"
   ]
  },
  {
   "cell_type": "code",
   "execution_count": null,
   "metadata": {},
   "outputs": [],
   "source": [
    "vcl, flagvector = dtls.gruenthal_declustering(catalogue)\n",
    "print(\"%g clusters\" % np.max(vcl))\n",
    "print(\"Original Catalogue = %g events (%g foreshocks, %g mainshocks, %g aftershocks)\" %\n",
    "      (len(vcl), np.sum(flagvector < 0), np.sum(flagvector == 0), np.sum(flagvector > 0)))"
   ]
  },
  {
   "cell_type": "code",
   "execution_count": null,
   "metadata": {
    "scrolled": true
   },
   "outputs": [],
   "source": [
    "data[\"vcl\"] = pd.Series(vcl)\n",
    "data[\"flag\"] = pd.Series(flagvector)\n",
    "data"
   ]
  },
  {
   "cell_type": "markdown",
   "metadata": {},
   "source": [
    "### Look at the spatial and temporal distribution of a specific cluster"
   ]
  },
  {
   "cell_type": "markdown",
   "metadata": {},
   "source": [
    "The function .plot_cluster_sequence(...) takes four pieces of information:\n",
    "\n",
    "1. The 'index' of the particular cluster (from vcl)\n",
    "\n",
    "2. The catalogue\n",
    "\n",
    "3. The cluster index vector, `vcl`\n",
    "\n",
    "4. The flag vector, `flagvector`"
   ]
  },
  {
   "cell_type": "code",
   "execution_count": null,
   "metadata": {},
   "outputs": [],
   "source": [
    "dtls.plot_cluster_sequence(4, catalogue, vcl, flagvector)"
   ]
  }
 ],
 "metadata": {
  "kernelspec": {
   "display_name": "Python 3",
   "language": "python",
   "name": "python3"
  },
  "language_info": {
   "codemirror_mode": {
    "name": "ipython",
    "version": 3
   },
   "file_extension": ".py",
   "mimetype": "text/x-python",
   "name": "python",
   "nbconvert_exporter": "python",
   "pygments_lexer": "ipython3",
   "version": "3.6.7"
  }
 },
 "nbformat": 4,
 "nbformat_minor": 2
}
